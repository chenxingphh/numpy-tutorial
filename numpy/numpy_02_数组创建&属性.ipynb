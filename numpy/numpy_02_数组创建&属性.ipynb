{
 "cells": [
  {
   "cell_type": "code",
   "execution_count": 1,
   "metadata": {},
   "outputs": [],
   "source": [
    "'''\n",
    "@Author: Haihui Pan\n",
    "@Date: 2021-12-04\n",
    "@Ref: https://numpy.org/doc/stable/\n",
    "'''\n",
    "import numpy as np"
   ]
  },
  {
   "cell_type": "markdown",
   "metadata": {},
   "source": [
    "## 创建数组\n",
    "\n",
    "Numpy最核心的对象是包含N维数组对象的ndarray，因此如何创建ndarray是最基础的操作。从面向对象的角度看，Numpy的其他方法则提供了对ndarra各种操作的方法。目前，常用的创建ndarray的方法有：<br>\n",
    "* 从List,tuple中初始化数组（np.array, np.asarray）\n",
    "* 从迭代器中创建数组（np.fromiter）\n",
    "* 创建数组函数（np.zeros, np.ones, np.random.uniform）\n",
    "* 指定取值范围、等比、等差来创建数组((np.arange, np.linspace, np.logspace ))"
   ]
  },
  {
   "cell_type": "markdown",
   "metadata": {},
   "source": [
    "### python对象初始化"
   ]
  },
  {
   "cell_type": "code",
   "execution_count": 2,
   "metadata": {},
   "outputs": [
    {
     "name": "stdout",
     "output_type": "stream",
     "text": [
      "[1 2 3 4]\n",
      "<class 'numpy.ndarray'>\n"
     ]
    }
   ],
   "source": [
    "#从List中初始化\n",
    "np_list=np.array([1,2,3,4])\n",
    "print(np_list)\n",
    "print(type(np_list))"
   ]
  },
  {
   "cell_type": "code",
   "execution_count": 3,
   "metadata": {},
   "outputs": [
    {
     "name": "stdout",
     "output_type": "stream",
     "text": [
      "[1 2 3 4]\n",
      "<class 'numpy.ndarray'>\n"
     ]
    }
   ],
   "source": [
    "#从tuple中初始化\n",
    "np_tuple=np.array((1,2,3,4))\n",
    "print(np_tuple)\n",
    "print(type(np_tuple))"
   ]
  },
  {
   "cell_type": "code",
   "execution_count": 4,
   "metadata": {},
   "outputs": [
    {
     "name": "stdout",
     "output_type": "stream",
     "text": [
      "[1 2 3 4]\n",
      "<class 'numpy.ndarray'>\n"
     ]
    }
   ],
   "source": [
    "#充迭代器中进行初始化\n",
    "it=iter(range(1,5))\n",
    "#需要指定数据类型\n",
    "np_it=np.fromiter(it,dtype=np.int)\n",
    "\n",
    "print(np_it)\n",
    "print(type(np_it))"
   ]
  },
  {
   "cell_type": "markdown",
   "metadata": {},
   "source": [
    "### 创建数组函数"
   ]
  },
  {
   "cell_type": "code",
   "execution_count": 5,
   "metadata": {},
   "outputs": [
    {
     "name": "stdout",
     "output_type": "stream",
     "text": [
      "[[0. 0.]\n",
      " [0. 0.]]\n"
     ]
    }
   ],
   "source": [
    "#创建指定大小，原始全部为0的数组\n",
    "np_zeros=np.zeros((2,2))\n",
    "print(np_zeros)"
   ]
  },
  {
   "cell_type": "code",
   "execution_count": 6,
   "metadata": {},
   "outputs": [
    {
     "name": "stdout",
     "output_type": "stream",
     "text": [
      "[[1 1]\n",
      " [1 1]]\n"
     ]
    }
   ],
   "source": [
    "#创建指定大小，原始全部为0的数组（默认为float）\n",
    "np_ones=np.ones((2,2),dtype=np.int)\n",
    "print(np_ones)"
   ]
  },
  {
   "cell_type": "code",
   "execution_count": 7,
   "metadata": {},
   "outputs": [
    {
     "name": "stdout",
     "output_type": "stream",
     "text": [
      "[[0.97856231 0.35489568 0.88757604]\n",
      " [0.81901238 0.81214955 0.34708979]\n",
      " [0.44041653 0.02194094 0.09960514]]\n"
     ]
    }
   ],
   "source": [
    "#创建指定大小，使用指定分布进行初始化\n",
    "np_uniform=np.random.uniform(low=0,high=1,size=(3,3)) #创建取值范围为[0,1]的3*3数组\n",
    "print(np_uniform)"
   ]
  },
  {
   "cell_type": "code",
   "execution_count": 8,
   "metadata": {},
   "outputs": [
    {
     "name": "stdout",
     "output_type": "stream",
     "text": [
      "[[-0.07370456  0.75308767 -1.19431005]\n",
      " [ 1.0057632  -0.14848877  0.05302461]\n",
      " [-0.84918081 -1.54675715  1.19194739]]\n"
     ]
    }
   ],
   "source": [
    "#使用均值为0，标准差为1的正态分布来进行初始化（loc:均值，scale:标准差）\n",
    "np_normal=np.random.normal(loc=0.0, scale=1.0, size=(3,3)) \n",
    "print(np_normal)"
   ]
  },
  {
   "cell_type": "markdown",
   "metadata": {},
   "source": [
    "### 指定取值范围、等差、等比"
   ]
  },
  {
   "cell_type": "code",
   "execution_count": 9,
   "metadata": {},
   "outputs": [
    {
     "name": "stdout",
     "output_type": "stream",
     "text": [
      "[0 2 4 6 8]\n",
      "[0.  2.5 5.  7.5]\n"
     ]
    }
   ],
   "source": [
    "#从start~stop-1，按照step间隔来生成数组\n",
    "np_arange=np.arange(start=0, stop=10, step=2)\n",
    "print(np_arange)\n",
    "\n",
    "#间隔可以不为整数\n",
    "np_arange2=np.arange(start=0, stop=10, step=2.5)\n",
    "print(np_arange2)"
   ]
  },
  {
   "cell_type": "code",
   "execution_count": 10,
   "metadata": {},
   "outputs": [
    {
     "name": "stdout",
     "output_type": "stream",
     "text": [
      "[0.         0.11111111 0.22222222 0.33333333 0.44444444 0.55555556\n",
      " 0.66666667 0.77777778 0.88888889 1.        ]\n"
     ]
    }
   ],
   "source": [
    "#生成指定范围的等差数列（num：生成的数目，endpoint：是否包含stop）\n",
    "np_linespace=np.linspace(start=0, stop=1, num=10, endpoint=True)\n",
    "print(np_linespace)"
   ]
  },
  {
   "cell_type": "markdown",
   "metadata": {},
   "source": [
    "Numpy等差数列一个很好的应用在于绘制函数时生成所需的x轴数组"
   ]
  },
  {
   "cell_type": "code",
   "execution_count": 11,
   "metadata": {},
   "outputs": [
    {
     "data": {
      "image/png": "[encoded data removed]",
      "text/plain": [
       "<Figure size 432x288 with 1 Axes>"
      ]
     },
     "metadata": {
      "needs_background": "light"
     },
     "output_type": "display_data"
    }
   ],
   "source": [
    "import matplotlib.pyplot as plt\n",
    "\n",
    "#绘制y=sin(x)\n",
    "x=np.linspace(start=-4*np.pi,stop=4*np.pi,num=200,endpoint=True)\n",
    "y=np.sin(x)\n",
    "\n",
    "plt.plot(x,y)\n",
    "plt.ylim(-1.5,1.5)\n",
    "plt.legend(['y=sin(x)'])\n",
    "plt.show()"
   ]
  },
  {
   "cell_type": "code",
   "execution_count": 12,
   "metadata": {},
   "outputs": [
    {
     "name": "stdout",
     "output_type": "stream",
     "text": [
      "[ 2.  4.  8. 16. 32.]\n"
     ]
    }
   ],
   "source": [
    "# 生成等比数列,start=base^start,stop=base^stop\n",
    "np_logspace=np.logspace(start=1, stop=5, num=5, endpoint=True, base=2.0)\n",
    "print(np_logspace)"
   ]
  },
  {
   "cell_type": "markdown",
   "metadata": {},
   "source": [
    "## ndarray的属性\n",
    "\n",
    "ndarray常用的属性有：<br>\n",
    "* shape: 数组形状\n",
    "* size: 数组大小，即数组元素个数\n",
    "* dtype: 数组类型 \n",
    "* ndim: 数组维度"
   ]
  },
  {
   "cell_type": "code",
   "execution_count": 13,
   "metadata": {},
   "outputs": [
    {
     "name": "stdout",
     "output_type": "stream",
     "text": [
      "shape: (2, 3)\n",
      "size: 6\n",
      "dtype int32\n",
      "ndim: 2\n"
     ]
    }
   ],
   "source": [
    "np_array=np.array([[1,2,3],\n",
    "                   [4,5,6]])\n",
    "print('shape:',np_array.shape)\n",
    "print('size:',np_array.size)\n",
    "print('dtype',np_array.dtype)\n",
    "print('ndim:',np_array.ndim)"
   ]
  },
  {
   "cell_type": "code",
   "execution_count": null,
   "metadata": {},
   "outputs": [],
   "source": []
  }
 ],
 "metadata": {
  "kernelspec": {
   "display_name": "env1",
   "language": "python",
   "name": "env1"
  },
  "language_info": {
   "codemirror_mode": {
    "name": "ipython",
    "version": 3
   },
   "file_extension": ".py",
   "mimetype": "text/x-python",
   "name": "python",
   "nbconvert_exporter": "python",
   "pygments_lexer": "ipython3",
   "version": "3.7.10"
  }
 },
 "nbformat": 4,
 "nbformat_minor": 2
}
