{
 "cells": [
  {
   "cell_type": "code",
   "execution_count": 1,
   "metadata": {},
   "outputs": [],
   "source": [
    "'''\n",
    "@Author: Haihui Pan\n",
    "@Date: 2021-12-05\n",
    "@Ref:\n",
    "[0]https://numpy.org/doc/stable/\n",
    "[1]https://www.runoob.com/numpy/numpy-tutorial.html\n",
    "'''\n",
    "import numpy as np"
   ]
  },
  {
   "cell_type": "markdown",
   "metadata": {},
   "source": [
    "## 广播(Broadcast)\n",
    "\n",
    "* 广播(Broadcast)是Numpy针对不同shape的数组进行数值计算的方式。\n",
    "   * 若数组a.shape==b.shape，则a,b对应位置元素进行操作\n",
    "   * 若数组a.shape!=b.shape, 则触发广播机制会进行自动补齐"
   ]
  },
  {
   "cell_type": "code",
   "execution_count": 2,
   "metadata": {},
   "outputs": [
    {
     "name": "stdout",
     "output_type": "stream",
     "text": [
      "[2 3 4 5]\n"
     ]
    }
   ],
   "source": [
    "a=np.array([1,2,3,4])\n",
    "b=np.array([1,])\n",
    "\n",
    "#由于b的shape不够，会自动将b广播为[1,1,1,1]\n",
    "print(a+b)"
   ]
  },
  {
   "cell_type": "code",
   "execution_count": 3,
   "metadata": {},
   "outputs": [
    {
     "name": "stdout",
     "output_type": "stream",
     "text": [
      "[[2 2 2]\n",
      " [3 3 3]]\n"
     ]
    }
   ],
   "source": [
    "#对于高维也一样\n",
    "a=np.array([[1,1,1],\n",
    "            [2,2,2]])\n",
    "b=np.array([1,1,1])\n",
    "\n",
    "#会自动广播b\n",
    "print(a+b)"
   ]
  },
  {
   "cell_type": "markdown",
   "metadata": {},
   "source": [
    "## 数组操作"
   ]
  },
  {
   "cell_type": "markdown",
   "metadata": {},
   "source": [
    "### 修改形状"
   ]
  },
  {
   "cell_type": "code",
   "execution_count": 4,
   "metadata": {},
   "outputs": [
    {
     "name": "stdout",
     "output_type": "stream",
     "text": [
      "[[0 1 2 3 4]\n",
      " [5 6 7 8 9]]\n"
     ]
    }
   ],
   "source": [
    "a=np.arange(10)\n",
    "\n",
    "#shape变为2*5\n",
    "a=a.reshape((2,5))\n",
    "print(a)"
   ]
  },
  {
   "cell_type": "markdown",
   "metadata": {},
   "source": [
    "### 对换维度"
   ]
  },
  {
   "cell_type": "code",
   "execution_count": 5,
   "metadata": {},
   "outputs": [
    {
     "name": "stdout",
     "output_type": "stream",
     "text": [
      "[[0 5]\n",
      " [1 6]\n",
      " [2 7]\n",
      " [3 8]\n",
      " [4 9]]\n"
     ]
    }
   ],
   "source": [
    "a=np.arange(10)\n",
    "\n",
    "#先reshape为2*5\n",
    "a=a.reshape((2,5))\n",
    "\n",
    "#对换数轴，变为5*2\n",
    "a=np.transpose(a,[1,0])\n",
    "print(a)"
   ]
  },
  {
   "cell_type": "markdown",
   "metadata": {},
   "source": [
    "### 修改维度"
   ]
  },
  {
   "cell_type": "code",
   "execution_count": 6,
   "metadata": {},
   "outputs": [
    {
     "name": "stdout",
     "output_type": "stream",
     "text": [
      "[[0]\n",
      " [1]\n",
      " [2]]\n"
     ]
    }
   ],
   "source": [
    "#扩充维度 \n",
    "a=np.arange(3)\n",
    "\n",
    "#通过在指定位置插入新的轴 [0,1,2]->[[0],[1],[2]],\n",
    "a=np.expand_dims(a,axis=1)\n",
    "print(a)"
   ]
  },
  {
   "cell_type": "code",
   "execution_count": 7,
   "metadata": {},
   "outputs": [
    {
     "name": "stdout",
     "output_type": "stream",
     "text": [
      "(1, 2, 2)\n",
      "(2, 2)\n"
     ]
    }
   ],
   "source": [
    "#降低维度，主要用于去除一些无用的轴\n",
    "\n",
    "# shape:1*2*2\n",
    "a=np.array([[[1,2],[3,4]]])\n",
    "print(a.shape)\n",
    "\n",
    "#去掉第一维度的轴为2*2\n",
    "a=np.squeeze(a,axis=0)\n",
    "print(a.shape)"
   ]
  },
  {
   "cell_type": "markdown",
   "metadata": {},
   "source": [
    "### 数组拼接\n",
    "* np.concatenate((a1, a2, ...), axis)\n",
    "  * (a1, a2, ...):待拼接的数组\n",
    "  * axis:拼接数组的轴维度\n",
    "* np.hstack:按照水平方向来堆叠生成数组\n",
    "* np.vstack:按照垂直方向来堆叠生成数组"
   ]
  },
  {
   "cell_type": "code",
   "execution_count": 8,
   "metadata": {},
   "outputs": [
    {
     "name": "stdout",
     "output_type": "stream",
     "text": [
      "[[1 2]\n",
      " [3 4]\n",
      " [5 6]\n",
      " [7 8]]\n",
      "[[1 2 5 6]\n",
      " [3 4 7 8]]\n"
     ]
    }
   ],
   "source": [
    "# 按照指定维度拼接数组\n",
    "a=np.array([[1,2],[3,4]])\n",
    "b=np.array([[5,6],[7,8]])\n",
    "\n",
    "#按照axis=0来进行拼接，即为[a[0],a[1],b[0],b[1]]\n",
    "c=np.concatenate((a,b),axis=0)\n",
    "print(c)\n",
    "\n",
    "#按照axis=1来进行拼接,即为[a[0]b[0],a[1]b[1]]\n",
    "d=np.concatenate((a,b),axis=1)\n",
    "print(d)"
   ]
  },
  {
   "cell_type": "code",
   "execution_count": 9,
   "metadata": {},
   "outputs": [
    {
     "name": "stdout",
     "output_type": "stream",
     "text": [
      "[[1 2 5 6]\n",
      " [3 4 7 8]]\n"
     ]
    }
   ],
   "source": [
    "# np.hstack相当于按行来进行拼接\n",
    "a=np.array([[1,2],\n",
    "            [3,4]])\n",
    "b=np.array([[5,6],\n",
    "            [7,8]])\n",
    "\n",
    "c=np.hstack((a,b))\n",
    "print(c)"
   ]
  },
  {
   "cell_type": "code",
   "execution_count": 10,
   "metadata": {},
   "outputs": [
    {
     "name": "stdout",
     "output_type": "stream",
     "text": [
      "[[1 2]\n",
      " [3 4]\n",
      " [5 6]\n",
      " [7 8]]\n"
     ]
    }
   ],
   "source": [
    "#np.vatsck相当于按列来进行\n",
    "a=np.array([[1,2],\n",
    "            [3,4]])\n",
    "b=np.array([[5,6],\n",
    "            [7,8]])\n",
    "\n",
    "c=np.vstack((a,b))\n",
    "print(c)"
   ]
  },
  {
   "cell_type": "markdown",
   "metadata": {},
   "source": [
    "## 内置数学函数"
   ]
  },
  {
   "cell_type": "markdown",
   "metadata": {},
   "source": [
    "### 三角函数"
   ]
  },
  {
   "cell_type": "code",
   "execution_count": 11,
   "metadata": {},
   "outputs": [
    {
     "name": "stdout",
     "output_type": "stream",
     "text": [
      "[ 0.84147098  0.90929743  0.14112001 -0.7568025 ]\n",
      "[ 0.54030231 -0.41614684 -0.9899925  -0.65364362]\n"
     ]
    }
   ],
   "source": [
    "x=np.array([1,2,3,4])\n",
    "\n",
    "print(np.sin(x))\n",
    "print(np.cos(x))"
   ]
  },
  {
   "cell_type": "markdown",
   "metadata": {},
   "source": [
    "### 取整函数 "
   ]
  },
  {
   "cell_type": "code",
   "execution_count": 12,
   "metadata": {},
   "outputs": [
    {
     "name": "stdout",
     "output_type": "stream",
     "text": [
      "[ 2.  3. 10.]\n"
     ]
    }
   ],
   "source": [
    "#向上取整\n",
    "x=np.array([1.1, 2.3, 9.8])\n",
    "\n",
    "x=np.ceil(x)\n",
    "print(x)"
   ]
  },
  {
   "cell_type": "code",
   "execution_count": 13,
   "metadata": {},
   "outputs": [
    {
     "name": "stdout",
     "output_type": "stream",
     "text": [
      "[1. 2. 9.]\n"
     ]
    }
   ],
   "source": [
    "#向下取整\n",
    "x=np.array([1.1, 2.3, 9.8])\n",
    "\n",
    "x=np.floor(x)\n",
    "print(x)"
   ]
  },
  {
   "cell_type": "markdown",
   "metadata": {},
   "source": [
    "### 舍入函数\n",
    "\n",
    "* np.around(a,decimals)\n",
    "  * a:数组\n",
    "  * decimals:四舍五入的小数点"
   ]
  },
  {
   "cell_type": "code",
   "execution_count": 14,
   "metadata": {},
   "outputs": [
    {
     "name": "stdout",
     "output_type": "stream",
     "text": [
      "[ 1.24 -0.99  7.67]\n"
     ]
    }
   ],
   "source": [
    "x=np.array([1.235,-0.987,7.666])\n",
    "\n",
    "#保留2位小数\n",
    "x=np.around(x,decimals=2)\n",
    "print(x)"
   ]
  }
 ],
 "metadata": {
  "kernelspec": {
   "display_name": "env1",
   "language": "python",
   "name": "env1"
  },
  "language_info": {
   "codemirror_mode": {
    "name": "ipython",
    "version": 3
   },
   "file_extension": ".py",
   "mimetype": "text/x-python",
   "name": "python",
   "nbconvert_exporter": "python",
   "pygments_lexer": "ipython3",
   "version": "3.7.10"
  }
 },
 "nbformat": 4,
 "nbformat_minor": 2
}
