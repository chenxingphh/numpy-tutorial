{
 "cells": [
  {
   "cell_type": "code",
   "execution_count": 1,
   "metadata": {},
   "outputs": [],
   "source": [
    "'''\n",
    "@Author: Haihui Pan\n",
    "@Date: 2021-12-04\n",
    "@Ref: https://numpy.org/doc/stable/\n",
    "'''\n",
    "import numpy as np"
   ]
  },
  {
   "cell_type": "markdown",
   "metadata": {},
   "source": [
    "## 索引&切片\n",
    "\n",
    "* 同List一样，numpy数组可以通过索引和切片来进行访问和修改。索引是指通过指定下标来获取目标元素，切片则是通过从原数组中切割出一个新数组。"
   ]
  },
  {
   "cell_type": "code",
   "execution_count": 2,
   "metadata": {},
   "outputs": [
    {
     "name": "stdout",
     "output_type": "stream",
     "text": [
      "[0 1 2 3 4 5 6 7 8 9]\n",
      "第2个元素: 1\n",
      "最后一个元素: 9\n"
     ]
    }
   ],
   "source": [
    "#单值索引\n",
    "np_a=np.arange(0,10)\n",
    "\n",
    "print(np_a)\n",
    "\n",
    "#取第2个元素\n",
    "print('第2个元素:',np_a[1])\n",
    "\n",
    "#取最后一个元素\n",
    "print(\"最后一个元素:\",np_a[-1])"
   ]
  },
  {
   "cell_type": "markdown",
   "metadata": {},
   "source": [
    "* Numpy的切片可以通过冒号分隔切片参数 ***start:stop:step***来切片 \n",
    "* 切片还可以使用'...'来对应维度上的所有对象"
   ]
  },
  {
   "cell_type": "code",
   "execution_count": 3,
   "metadata": {},
   "outputs": [
    {
     "name": "stdout",
     "output_type": "stream",
     "text": [
      "[0 2 4 6 8]\n"
     ]
    }
   ],
   "source": [
    "# [0 1 2 3 4 5 6 7 8 9]\n",
    "np_a=np.arange(0,10)\n",
    "\n",
    "#按照间隔取值\n",
    "np_slice=np_a[0:10:2]\n",
    "print(np_slice)"
   ]
  },
  {
   "cell_type": "code",
   "execution_count": 4,
   "metadata": {},
   "outputs": [
    {
     "name": "stdout",
     "output_type": "stream",
     "text": [
      "[1 4 7]\n",
      "[[2 3]\n",
      " [5 6]\n",
      " [8 9]]\n"
     ]
    }
   ],
   "source": [
    "np_a=np.array([[1,2,3],\n",
    "               [4,5,6],\n",
    "               [7,8,9]])\n",
    "#取第一列\n",
    "print(np_a[...,0]) #...相当于取[1,2,3],[4,5,6],[7,8,9]；0表示取index=0的元素\n",
    "\n",
    "#取第2,3列所有元素\n",
    "print(np_a[...,1:])"
   ]
  },
  {
   "cell_type": "markdown",
   "metadata": {},
   "source": [
    "## 高级索引\n",
    "* 布尔索引:通过布尔运算来获取符合指定条件的元素的数组\n",
    "* 条件索引:np.where函数用于返回满足条件的元素索引，也可以达到布尔索引的效果\n",
    "* 花式索引:利用整数数组进行索引,与切片不同的是，它总是将数据复制到新数组中"
   ]
  },
  {
   "cell_type": "markdown",
   "metadata": {},
   "source": [
    "### 布尔索引"
   ]
  },
  {
   "cell_type": "code",
   "execution_count": 5,
   "metadata": {},
   "outputs": [
    {
     "name": "stdout",
     "output_type": "stream",
     "text": [
      "[4 5 6 7 8 9]\n"
     ]
    }
   ],
   "source": [
    "a=np.array([[1,2,3],[4,5,6],[7,8,9]])\n",
    "\n",
    "#输出大于3的数\n",
    "print(a[a>3])"
   ]
  },
  {
   "cell_type": "code",
   "execution_count": 6,
   "metadata": {},
   "outputs": [
    {
     "name": "stdout",
     "output_type": "stream",
     "text": [
      "[1. 2. 3. 3. 4.]\n"
     ]
    }
   ],
   "source": [
    "a=np.array([1,2,3,np.nan,3,4])\n",
    "\n",
    "#输出数组中非空元素\n",
    "print(a[~np.isnan(a)]) "
   ]
  },
  {
   "cell_type": "markdown",
   "metadata": {},
   "source": [
    "### 条件索引"
   ]
  },
  {
   "cell_type": "code",
   "execution_count": 7,
   "metadata": {},
   "outputs": [
    {
     "name": "stdout",
     "output_type": "stream",
     "text": [
      "(array([1, 1, 1, 2, 2, 2], dtype=int64), array([0, 1, 2, 0, 1, 2], dtype=int64))\n",
      "[4 5 6 7 8 9]\n"
     ]
    }
   ],
   "source": [
    "a=np.array([[1,2,3],[4,5,6],[7,8,9]])\n",
    "\n",
    "#大于3的元素索引\n",
    "np_index=np.where(a>3)\n",
    "print(np_index)\n",
    "\n",
    "#输出满足条件元素\n",
    "print(a[np_index])"
   ]
  },
  {
   "cell_type": "code",
   "execution_count": 8,
   "metadata": {},
   "outputs": [
    {
     "name": "stdout",
     "output_type": "stream",
     "text": [
      "(array([0, 1, 1, 2], dtype=int64), array([1, 0, 2, 1], dtype=int64))\n",
      "[2 4 6 8]\n"
     ]
    }
   ],
   "source": [
    "a=np.array([[1,2,3],[4,5,6],[7,8,9]])\n",
    "\n",
    "#数组中为偶数的元素索引\n",
    "np_index=np.where(a%2==0)\n",
    "print(np_index)\n",
    "\n",
    "#输出满足条件元素\n",
    "print(a[np_index])"
   ]
  },
  {
   "cell_type": "markdown",
   "metadata": {},
   "source": [
    "### 花式索引"
   ]
  },
  {
   "cell_type": "code",
   "execution_count": 9,
   "metadata": {},
   "outputs": [
    {
     "name": "stdout",
     "output_type": "stream",
     "text": [
      "[[2 2]\n",
      " [0 0]]\n"
     ]
    }
   ],
   "source": [
    "#花式索引，取指定位置的多个对象\n",
    "a=np.array([[0,0],\n",
    "            [1,1],\n",
    "            [2,2]])\n",
    "\n",
    "#取a[2],a[0]\n",
    "print(a[[2,0]])"
   ]
  },
  {
   "cell_type": "markdown",
   "metadata": {},
   "source": [
    "## 排序\n",
    "\n",
    "* np.sort(a, axis, kind, order) 函数返回输入数组的排序副本\n",
    "  * a: 待排序的数组\n",
    "  * axis: 排序数组的轴；默认值为-1\n",
    "  * kind: 排序算法；默认为quicksort\n",
    "  * order: 若数组包含字段，则为排序的字段"
   ]
  },
  {
   "cell_type": "code",
   "execution_count": 10,
   "metadata": {},
   "outputs": [
    {
     "name": "stdout",
     "output_type": "stream",
     "text": [
      "[[3 4 5]\n",
      " [2 3 9]]\n"
     ]
    }
   ],
   "source": [
    "x=np.array([[4,3,5],\n",
    "            [9,2,3]])\n",
    "\n",
    "#axis=-1,表示对x[0][:],x[1][:]的元素进行排序\n",
    "print(np.sort(x))"
   ]
  },
  {
   "cell_type": "code",
   "execution_count": 11,
   "metadata": {},
   "outputs": [
    {
     "name": "stdout",
     "output_type": "stream",
     "text": [
      "[[4 2 3]\n",
      " [9 3 5]]\n"
     ]
    }
   ],
   "source": [
    "x=np.array([[4,3,5],\n",
    "            [9,2,3]])\n",
    "\n",
    "#axis=0，则按照列来进行排序; x[:][0],x[:][1],x[:][2]来进行排序\n",
    "print(np.sort(x,axis=0))"
   ]
  },
  {
   "cell_type": "code",
   "execution_count": 12,
   "metadata": {},
   "outputs": [
    {
     "name": "stdout",
     "output_type": "stream",
     "text": [
      "[(b'Mike',  8) (b'Marry', 10) (b'Tom', 12)]\n"
     ]
    }
   ],
   "source": [
    "# S20：表示数据类型为字符串，每个字符串字节长度为20的意思\n",
    "dt=np.dtype([('name','S20'),('age',np.int)])\n",
    "\n",
    "np_student=np.array([('Tom',12),('Mike',8),('Marry',10)],dtype=dt)\n",
    "print(np.sort(np_student,order='age'))"
   ]
  }
 ],
 "metadata": {
  "kernelspec": {
   "display_name": "env1",
   "language": "python",
   "name": "env1"
  },
  "language_info": {
   "codemirror_mode": {
    "name": "ipython",
    "version": 3
   },
   "file_extension": ".py",
   "mimetype": "text/x-python",
   "name": "python",
   "nbconvert_exporter": "python",
   "pygments_lexer": "ipython3",
   "version": "3.7.10"
  }
 },
 "nbformat": 4,
 "nbformat_minor": 2
}
