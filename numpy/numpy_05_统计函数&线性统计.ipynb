{
 "cells": [
  {
   "cell_type": "code",
   "execution_count": 1,
   "metadata": {},
   "outputs": [],
   "source": [
    "'''\n",
    "@Author: Haihui Pan\n",
    "@Date: 2021-12-05\n",
    "@Ref:\n",
    "[0]https://numpy.org/doc/stable/\n",
    "[1]https://www.runoob.com/numpy/numpy-tutorial.html\n",
    "'''\n",
    "\n",
    "import numpy as np"
   ]
  },
  {
   "cell_type": "markdown",
   "metadata": {},
   "source": [
    "## 统计函数\n",
    "* 最值(最大，最小，对应的index)\n",
    "* 均值，方差，标准差\n",
    "* 分位数，中位数，极差"
   ]
  },
  {
   "cell_type": "markdown",
   "metadata": {},
   "source": [
    "### 取最值\n",
    "\n",
    "* np.min(a, axis):用于计算沿指定轴的最小值\n",
    "* np.argmin(a, axis):用于计算沿指定轴的最小值元素的索引\n",
    "* np.max(a, axis):用于计算沿指定轴的最大值\n",
    "* np.argmax(a, axis):用于计算沿指定轴的最大值元素的索引"
   ]
  },
  {
   "cell_type": "code",
   "execution_count": 2,
   "metadata": {},
   "outputs": [
    {
     "name": "stdout",
     "output_type": "stream",
     "text": [
      "0 index: 8\n",
      "[1 3 0] index: [1 0 2]\n",
      "[2 1 0] index: [0 0 2]\n"
     ]
    }
   ],
   "source": [
    "# np.amin(a, axis)用于计算沿指定轴的最小值\n",
    "x=np.array([[2,3,4],\n",
    "            [1,8,3],\n",
    "            [5,7,0]])\n",
    "\n",
    "#默认是全部元素的最小值\n",
    "print(np.min(x),'index:',np.argmin(x))\n",
    "\n",
    "#指定轴的最小值 axis=0，则为x[0],x[1],x[2]同位置比大小，相当于列\n",
    "print(np.min(x,axis=0),'index:',np.argmin(x,axis=0))\n",
    "\n",
    "#axis=1，则为min(a[0][i]),min(a[1][i]),min(a[2][i]),相当于行\n",
    "print(np.min(x,axis=1),'index:',np.argmin(x,axis=1))"
   ]
  },
  {
   "cell_type": "code",
   "execution_count": 3,
   "metadata": {},
   "outputs": [
    {
     "name": "stdout",
     "output_type": "stream",
     "text": [
      "8 index: 4\n",
      "[5 8 4] index: [2 1 0]\n",
      "[4 8 7] index: [2 1 1]\n"
     ]
    }
   ],
   "source": [
    "# np.max(a, axis)用于计算沿指定轴的最大值\n",
    "x=np.array([[2,3,4],\n",
    "            [1,8,3],\n",
    "            [5,7,0]])\n",
    "\n",
    "#默认是全部元素的最大值（相当于将数组拉平）\n",
    "print(np.max(x),'index:',np.argmax(x))\n",
    "\n",
    "#axis=0，则为x[0],x[1],x[2]同位置比大小，相当于列\n",
    "print(np.max(x,axis=0),'index:',np.argmax(x,axis=0))\n",
    "\n",
    "#axis=1，则为max(a[0][i]),max(a[1][i]),max(a[2][i]),相当于行\n",
    "print(np.max(x,axis=1),'index:',np.argmax(x,axis=1))"
   ]
  },
  {
   "cell_type": "markdown",
   "metadata": {},
   "source": [
    "### 均值，方差，标准差"
   ]
  },
  {
   "cell_type": "code",
   "execution_count": 4,
   "metadata": {},
   "outputs": [
    {
     "name": "stdout",
     "output_type": "stream",
     "text": [
      "[0 1 2 3 4 5 6 7 8 9]\n",
      "mean: 4.5 var: 8.25 std: 2.8722813232690143\n"
     ]
    }
   ],
   "source": [
    "x=np.arange(10)\n",
    "\n",
    "#均值\n",
    "x_mean=np.mean(x)\n",
    "\n",
    "#方差\n",
    "x_var=np.var(x)\n",
    "\n",
    "#标准差\n",
    "x_std=np.std(x)\n",
    "\n",
    "print(x)\n",
    "print('mean:',x_mean, 'var:',x_var, 'std:',x_std)"
   ]
  },
  {
   "cell_type": "markdown",
   "metadata": {},
   "source": [
    "### 中位数，分位数和极差"
   ]
  },
  {
   "cell_type": "code",
   "execution_count": 5,
   "metadata": {},
   "outputs": [
    {
     "name": "stdout",
     "output_type": "stream",
     "text": [
      "median: 4.5\n",
      "4.5\n",
      "6.75\n",
      "max-min: 9\n"
     ]
    }
   ],
   "source": [
    "x=np.arange(10)\n",
    "\n",
    "#中位数\n",
    "print('median:',np.median(x))\n",
    "\n",
    "#计算指定50%分位数(即为中位数)\n",
    "print(np.percentile(x, 50))\n",
    "\n",
    "#计算75%分位数\n",
    "print(np.percentile(x,75))\n",
    "\n",
    "#极差\n",
    "print('max-min:',np.ptp(x))"
   ]
  },
  {
   "cell_type": "markdown",
   "metadata": {},
   "source": [
    "## 线性代数"
   ]
  },
  {
   "cell_type": "markdown",
   "metadata": {},
   "source": [
    "### 点积\n",
    "\n",
    "* 点击(dot):表示矩阵内积，当数组为二维时，则为矩阵积"
   ]
  },
  {
   "cell_type": "code",
   "execution_count": 6,
   "metadata": {},
   "outputs": [
    {
     "name": "stdout",
     "output_type": "stream",
     "text": [
      "[[37 40]\n",
      " [85 92]]\n"
     ]
    }
   ],
   "source": [
    "a = np.array([[1,2],\n",
    "              [3,4]])\n",
    "b = np.array([[11,12],\n",
    "              [13,14]])\n",
    "\n",
    "c=np.dot(a,b)\n",
    "print(c)"
   ]
  },
  {
   "cell_type": "code",
   "execution_count": 7,
   "metadata": {},
   "outputs": [
    {
     "name": "stdout",
     "output_type": "stream",
     "text": [
      "14\n"
     ]
    }
   ],
   "source": [
    "a = np.array([1,2,3])\n",
    "b = np.array([1,2,3])\n",
    "\n",
    "c=np.dot(a,b)\n",
    "print(c)"
   ]
  },
  {
   "cell_type": "markdown",
   "metadata": {},
   "source": [
    "### 元素积(element-wise product)\n",
    "\n",
    "* 两个数组相同位置上的元素进行相乘"
   ]
  },
  {
   "cell_type": "code",
   "execution_count": 8,
   "metadata": {},
   "outputs": [
    {
     "name": "stdout",
     "output_type": "stream",
     "text": [
      "[1 4 9]\n"
     ]
    }
   ],
   "source": [
    "a = np.array([1,2,3])\n",
    "b = np.array([1,2,3])\n",
    "\n",
    "c=a*b\n",
    "print(c)"
   ]
  },
  {
   "cell_type": "markdown",
   "metadata": {},
   "source": [
    "### 内积"
   ]
  },
  {
   "cell_type": "code",
   "execution_count": 9,
   "metadata": {},
   "outputs": [
    {
     "name": "stdout",
     "output_type": "stream",
     "text": [
      "14\n"
     ]
    }
   ],
   "source": [
    "a=np.array([1,2,3])\n",
    "b=np.array([1,2,3])\n",
    "\n",
    "c=np.inner(a,b)\n",
    "print(c)"
   ]
  },
  {
   "cell_type": "markdown",
   "metadata": {},
   "source": [
    "### 矩阵乘法"
   ]
  },
  {
   "cell_type": "code",
   "execution_count": 10,
   "metadata": {},
   "outputs": [
    {
     "name": "stdout",
     "output_type": "stream",
     "text": [
      "[[ 2  1]\n",
      " [ 8 11]]\n"
     ]
    }
   ],
   "source": [
    "a=np.array([[0,1],\n",
    "            [2,3]])\n",
    "b=np.array([[1,4],\n",
    "            [2,1]])\n",
    "\n",
    "c=np.matmul(a,b)\n",
    "print(c)"
   ]
  },
  {
   "cell_type": "markdown",
   "metadata": {},
   "source": [
    "### 行列式"
   ]
  },
  {
   "cell_type": "code",
   "execution_count": 11,
   "metadata": {},
   "outputs": [
    {
     "name": "stdout",
     "output_type": "stream",
     "text": [
      "15.0\n"
     ]
    }
   ],
   "source": [
    "x=np.array([[2,1],\n",
    "             [1,8]])\n",
    "\n",
    "x_det=np.linalg.det(x)\n",
    "print(x_det)"
   ]
  },
  {
   "cell_type": "markdown",
   "metadata": {},
   "source": [
    "### 逆矩阵&线性方程解\n",
    "\n",
    "线性方程组：<br>\n",
    "x + y + z = 6<br>\n",
    "2y + 5z = -4<br>\n",
    "2x + 5y - z = 27<br>\n",
    "\n",
    "可以使用线性代数的求解为:<br>\n",
    "$Ax=y \\longrightarrow  x=A^{-1}y$"
   ]
  },
  {
   "cell_type": "code",
   "execution_count": 12,
   "metadata": {},
   "outputs": [
    {
     "data": {
      "text/html": [
       "<img src=\"np_02.png\",width=\"40%\",height=\"40%\">\n"
      ],
      "text/plain": [
       "<IPython.core.display.HTML object>"
      ]
     },
     "metadata": {},
     "output_type": "display_data"
    }
   ],
   "source": [
    "%%html \n",
    "<img src=\"np_02.png\",width=\"40%\",height=\"40%\">"
   ]
  },
  {
   "cell_type": "code",
   "execution_count": 13,
   "metadata": {},
   "outputs": [
    {
     "name": "stdout",
     "output_type": "stream",
     "text": [
      "[[ 5.]\n",
      " [ 3.]\n",
      " [-2.]]\n"
     ]
    }
   ],
   "source": [
    "A = np.array([[1,1,1],\n",
    "              [0,2,5],\n",
    "              [2,5,-1]])\n",
    "\n",
    "#求逆矩阵\n",
    "A_inv=np.linalg.inv(A)\n",
    "\n",
    "#矩阵y\n",
    "y=np.array([[6],[-4],[27]])\n",
    "\n",
    "#解方程\n",
    "x=np.dot(A_inv,y)\n",
    "print(x)"
   ]
  }
 ],
 "metadata": {
  "kernelspec": {
   "display_name": "env1",
   "language": "python",
   "name": "env1"
  },
  "language_info": {
   "codemirror_mode": {
    "name": "ipython",
    "version": 3
   },
   "file_extension": ".py",
   "mimetype": "text/x-python",
   "name": "python",
   "nbconvert_exporter": "python",
   "pygments_lexer": "ipython3",
   "version": "3.7.10"
  }
 },
 "nbformat": 4,
 "nbformat_minor": 2
}
