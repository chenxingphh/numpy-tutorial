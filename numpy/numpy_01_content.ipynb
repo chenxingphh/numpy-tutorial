{
 "cells": [
  {
   "cell_type": "code",
   "execution_count": null,
   "metadata": {},
   "outputs": [],
   "source": [
    "'''\n",
    "@Author: Haihui Pan\n",
    "@Date: 2021-12-04\n",
    "@Ref:\n",
    "[0]https://numpy.org/doc/stable/\n",
    "[1]https://www.runoob.com/numpy/numpy-tutorial.html\n",
    "'''"
   ]
  },
  {
   "cell_type": "code",
   "execution_count": 1,
   "metadata": {},
   "outputs": [
    {
     "data": {
      "text/html": [
       "<img src=\"np_01.png\",width=\"40%\",height=\"40%\">\n"
      ],
      "text/plain": [
       "<IPython.core.display.HTML object>"
      ]
     },
     "metadata": {},
     "output_type": "display_data"
    }
   ],
   "source": [
    "%%html\n",
    "<img src=\"np_01.png\",width=\"40%\",height=\"40%\">"
   ]
  },
  {
   "cell_type": "markdown",
   "metadata": {},
   "source": [
    "Numpy(Numerical python)是一个用于处理维度数组和矩阵运算的Python三方库。Numpy的运行速度很快，主要包括以下功能：<br>\n",
    "1、提供ndarray的N维数组对象<br>\n",
    "2、数据切片、广播功能 <br>\n",
    "3、随机数生成、线性代数、傅里叶变换等功能<br>"
   ]
  },
  {
   "cell_type": "markdown",
   "metadata": {},
   "source": [
    "# numpy-tutorial\n",
    "\n",
    "* numpy_01_内容\n",
    "\n",
    "* numpy_02_数组创建&属性\n",
    "  - 创建数组\n",
    "      - 从List,tuple中初始化数组（np.array, np.asarray）\n",
    "      - 从迭代器中创建数组（np.fromiter）\n",
    "      - 创建数组函数（np.zeros, np.ones, np.random.uniform）\n",
    "      - 指定取值范围、等比、等差来创建数组((np.arange, np.linspace, np.logspace ))\n",
    "  - numpy属性\n",
    "      -  shape: 数组形状\n",
    "      -  size: 数组大小，即数组元素个数\n",
    "      -  dtype: 数组类型 \n",
    "      -  ndim: 数组维度\n",
    "\n",
    "* numpy_03_索引&排序\n",
    "  - 基础索引\n",
    "      - 正向索引，逆向索引\n",
    "      - 连续取值、连续间隔取值\n",
    "  - 高级索引\n",
    "      - 布尔索引\n",
    "      - 条件索引\n",
    "      - 花式索引\n",
    "  - 排序\n",
    "      - 数组排序\n",
    "      - 对象排序（多属性，按指定字段进行排序）\n",
    "\n",
    "* numpy_04_广播&数组操作&内置数学函数\n",
    "  - 广播(Broadcast)\n",
    "  - 数组操作\n",
    "    - 修改形状(reshape)\n",
    "    - 对换维度(np.transpose)\n",
    "    - 修改维度(np.expand_dims, np.squeeze)\n",
    "    - 数组拼接(np.concatenate, np.hstack, np.vstack)\n",
    "  - 常用内置函数\n",
    "    - 三角函数(np.sin,np.cos,...)\n",
    "    - 向上和向下取整(np.ceil, np.floor)\n",
    "    - 舍入函数(np.around)\n",
    "\n",
    "* numpy_05_统计函数&线性代数\n",
    "  - 统计函数\n",
    "    - 最值函数(np.amin, np.amax, np.argmin, np.argmax)\n",
    "    - 均值，方差，标准差\n",
    "    - 分位数，中位数，极差\n",
    "  - 线性代数\n",
    "    - 点积(np.dot)\n",
    "    - 向量内积(np.inner) \n",
    "    - 矩阵乘法(np.matmul)\n",
    "    - 同位置元素相乘\n",
    "    - 行列式\n",
    "    - 逆矩阵（线性方差解）"
   ]
  },
  {
   "cell_type": "code",
   "execution_count": null,
   "metadata": {},
   "outputs": [],
   "source": []
  }
 ],
 "metadata": {
  "kernelspec": {
   "display_name": "env1",
   "language": "python",
   "name": "env1"
  },
  "language_info": {
   "codemirror_mode": {
    "name": "ipython",
    "version": 3
   },
   "file_extension": ".py",
   "mimetype": "text/x-python",
   "name": "python",
   "nbconvert_exporter": "python",
   "pygments_lexer": "ipython3",
   "version": "3.7.10"
  }
 },
 "nbformat": 4,
 "nbformat_minor": 2
}
